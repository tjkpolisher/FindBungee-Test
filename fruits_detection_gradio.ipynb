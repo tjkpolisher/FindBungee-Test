{
  "cells": [
    {
      "cell_type": "code",
      "execution_count": 1,
      "metadata": {},
      "outputs": [
        {
          "name": "stdout",
          "output_type": "stream",
          "text": [
            "Requirement already satisfied: azure-cognitiveservices-vision-customvision in /home/codespace/.python/current/lib/python3.12/site-packages (3.1.0)\n",
            "Requirement already satisfied: msrest>=0.5.0 in /home/codespace/.python/current/lib/python3.12/site-packages (from azure-cognitiveservices-vision-customvision) (0.7.1)\n",
            "Requirement already satisfied: azure-common~=1.1 in /home/codespace/.python/current/lib/python3.12/site-packages (from azure-cognitiveservices-vision-customvision) (1.1.28)\n",
            "Requirement already satisfied: azure-core>=1.24.0 in /home/codespace/.python/current/lib/python3.12/site-packages (from msrest>=0.5.0->azure-cognitiveservices-vision-customvision) (1.34.0)\n",
            "Requirement already satisfied: certifi>=2017.4.17 in /home/codespace/.local/lib/python3.12/site-packages (from msrest>=0.5.0->azure-cognitiveservices-vision-customvision) (2025.1.31)\n",
            "Requirement already satisfied: isodate>=0.6.0 in /home/codespace/.python/current/lib/python3.12/site-packages (from msrest>=0.5.0->azure-cognitiveservices-vision-customvision) (0.7.2)\n",
            "Requirement already satisfied: requests-oauthlib>=0.5.0 in /home/codespace/.python/current/lib/python3.12/site-packages (from msrest>=0.5.0->azure-cognitiveservices-vision-customvision) (2.0.0)\n",
            "Requirement already satisfied: requests~=2.16 in /home/codespace/.local/lib/python3.12/site-packages (from msrest>=0.5.0->azure-cognitiveservices-vision-customvision) (2.32.3)\n",
            "Requirement already satisfied: six>=1.11.0 in /home/codespace/.local/lib/python3.12/site-packages (from azure-core>=1.24.0->msrest>=0.5.0->azure-cognitiveservices-vision-customvision) (1.17.0)\n",
            "Requirement already satisfied: typing-extensions>=4.6.0 in /home/codespace/.local/lib/python3.12/site-packages (from azure-core>=1.24.0->msrest>=0.5.0->azure-cognitiveservices-vision-customvision) (4.12.2)\n",
            "Requirement already satisfied: charset-normalizer<4,>=2 in /home/codespace/.local/lib/python3.12/site-packages (from requests~=2.16->msrest>=0.5.0->azure-cognitiveservices-vision-customvision) (3.4.1)\n",
            "Requirement already satisfied: idna<4,>=2.5 in /home/codespace/.local/lib/python3.12/site-packages (from requests~=2.16->msrest>=0.5.0->azure-cognitiveservices-vision-customvision) (3.10)\n",
            "Requirement already satisfied: urllib3<3,>=1.21.1 in /home/codespace/.local/lib/python3.12/site-packages (from requests~=2.16->msrest>=0.5.0->azure-cognitiveservices-vision-customvision) (2.3.0)\n",
            "Requirement already satisfied: oauthlib>=3.0.0 in /home/codespace/.python/current/lib/python3.12/site-packages (from requests-oauthlib>=0.5.0->msrest>=0.5.0->azure-cognitiveservices-vision-customvision) (3.2.2)\n",
            "\n",
            "\u001b[1m[\u001b[0m\u001b[34;49mnotice\u001b[0m\u001b[1;39;49m]\u001b[0m\u001b[39;49m A new release of pip is available: \u001b[0m\u001b[31;49m25.0.1\u001b[0m\u001b[39;49m -> \u001b[0m\u001b[32;49m25.1.1\u001b[0m\n",
            "\u001b[1m[\u001b[0m\u001b[34;49mnotice\u001b[0m\u001b[1;39;49m]\u001b[0m\u001b[39;49m To update, run: \u001b[0m\u001b[32;49mpip install --upgrade pip\u001b[0m\n",
            "Note: you may need to restart the kernel to use updated packages.\n"
          ]
        }
      ],
      "source": [
        "%pip install azure-cognitiveservices-vision-customvision"
      ]
    },
    {
      "cell_type": "markdown",
      "metadata": {
        "nteract": {
          "transient": {
            "deleting": false
          }
        }
      },
      "source": [
        "## 새로운 Python 프로그램 생성"
      ]
    },
    {
      "cell_type": "code",
      "execution_count": 2,
      "metadata": {
        "gather": {
          "logged": 1747642807725
        }
      },
      "outputs": [],
      "source": [
        "from azure.cognitiveservices.vision.customvision.prediction import CustomVisionPredictionClient\n",
        "from msrest.authentication import ApiKeyCredentials\n",
        "from matplotlib import pyplot as plt\n",
        "from PIL import Image, ImageDraw, ImageFont\n",
        "import numpy as np\n",
        "import os"
      ]
    },
    {
      "cell_type": "markdown",
      "metadata": {
        "nteract": {
          "transient": {
            "deleting": false
          }
        }
      },
      "source": [
        "# Gradio 환경 추가"
      ]
    },
    {
      "cell_type": "code",
      "execution_count": 3,
      "metadata": {},
      "outputs": [
        {
          "name": "stdout",
          "output_type": "stream",
          "text": [
            "Requirement already satisfied: gradio in /home/codespace/.python/current/lib/python3.12/site-packages (5.31.0)\n",
            "Requirement already satisfied: aiofiles<25.0,>=22.0 in /home/codespace/.python/current/lib/python3.12/site-packages (from gradio) (24.1.0)\n",
            "Requirement already satisfied: anyio<5.0,>=3.0 in /home/codespace/.local/lib/python3.12/site-packages (from gradio) (4.9.0)\n",
            "Requirement already satisfied: fastapi<1.0,>=0.115.2 in /home/codespace/.python/current/lib/python3.12/site-packages (from gradio) (0.115.12)\n",
            "Requirement already satisfied: ffmpy in /home/codespace/.python/current/lib/python3.12/site-packages (from gradio) (0.5.0)\n",
            "Requirement already satisfied: gradio-client==1.10.1 in /home/codespace/.python/current/lib/python3.12/site-packages (from gradio) (1.10.1)\n",
            "Requirement already satisfied: groovy~=0.1 in /home/codespace/.python/current/lib/python3.12/site-packages (from gradio) (0.1.2)\n",
            "Requirement already satisfied: httpx>=0.24.1 in /home/codespace/.local/lib/python3.12/site-packages (from gradio) (0.28.1)\n",
            "Requirement already satisfied: huggingface-hub>=0.28.1 in /home/codespace/.python/current/lib/python3.12/site-packages (from gradio) (0.32.2)\n",
            "Requirement already satisfied: jinja2<4.0 in /home/codespace/.local/lib/python3.12/site-packages (from gradio) (3.1.6)\n",
            "Requirement already satisfied: markupsafe<4.0,>=2.0 in /home/codespace/.local/lib/python3.12/site-packages (from gradio) (3.0.2)\n",
            "Requirement already satisfied: numpy<3.0,>=1.0 in /home/codespace/.local/lib/python3.12/site-packages (from gradio) (2.2.4)\n",
            "Requirement already satisfied: orjson~=3.0 in /home/codespace/.python/current/lib/python3.12/site-packages (from gradio) (3.10.18)\n",
            "Requirement already satisfied: packaging in /home/codespace/.local/lib/python3.12/site-packages (from gradio) (24.2)\n",
            "Requirement already satisfied: pandas<3.0,>=1.0 in /home/codespace/.python/current/lib/python3.12/site-packages (from gradio) (2.2.2)\n",
            "Requirement already satisfied: pillow<12.0,>=8.0 in /home/codespace/.local/lib/python3.12/site-packages (from gradio) (11.1.0)\n",
            "Requirement already satisfied: pydantic<2.12,>=2.0 in /home/codespace/.python/current/lib/python3.12/site-packages (from gradio) (2.11.5)\n",
            "Requirement already satisfied: pydub in /home/codespace/.python/current/lib/python3.12/site-packages (from gradio) (0.25.1)\n",
            "Requirement already satisfied: python-multipart>=0.0.18 in /home/codespace/.python/current/lib/python3.12/site-packages (from gradio) (0.0.20)\n",
            "Requirement already satisfied: pyyaml<7.0,>=5.0 in /home/codespace/.local/lib/python3.12/site-packages (from gradio) (6.0.2)\n",
            "Requirement already satisfied: ruff>=0.9.3 in /home/codespace/.python/current/lib/python3.12/site-packages (from gradio) (0.11.11)\n",
            "Requirement already satisfied: safehttpx<0.2.0,>=0.1.6 in /home/codespace/.python/current/lib/python3.12/site-packages (from gradio) (0.1.6)\n",
            "Requirement already satisfied: semantic-version~=2.0 in /home/codespace/.python/current/lib/python3.12/site-packages (from gradio) (2.10.0)\n",
            "Requirement already satisfied: starlette<1.0,>=0.40.0 in /home/codespace/.python/current/lib/python3.12/site-packages (from gradio) (0.46.2)\n",
            "Requirement already satisfied: tomlkit<0.14.0,>=0.12.0 in /home/codespace/.python/current/lib/python3.12/site-packages (from gradio) (0.13.2)\n",
            "Requirement already satisfied: typer<1.0,>=0.12 in /home/codespace/.python/current/lib/python3.12/site-packages (from gradio) (0.16.0)\n",
            "Requirement already satisfied: typing-extensions~=4.0 in /home/codespace/.local/lib/python3.12/site-packages (from gradio) (4.12.2)\n",
            "Requirement already satisfied: uvicorn>=0.14.0 in /home/codespace/.python/current/lib/python3.12/site-packages (from gradio) (0.34.2)\n",
            "Requirement already satisfied: fsspec in /home/codespace/.local/lib/python3.12/site-packages (from gradio-client==1.10.1->gradio) (2024.6.1)\n",
            "Requirement already satisfied: websockets<16.0,>=10.0 in /home/codespace/.python/current/lib/python3.12/site-packages (from gradio-client==1.10.1->gradio) (15.0.1)\n",
            "Requirement already satisfied: idna>=2.8 in /home/codespace/.local/lib/python3.12/site-packages (from anyio<5.0,>=3.0->gradio) (3.10)\n",
            "Requirement already satisfied: sniffio>=1.1 in /home/codespace/.local/lib/python3.12/site-packages (from anyio<5.0,>=3.0->gradio) (1.3.1)\n",
            "Requirement already satisfied: certifi in /home/codespace/.local/lib/python3.12/site-packages (from httpx>=0.24.1->gradio) (2025.1.31)\n",
            "Requirement already satisfied: httpcore==1.* in /home/codespace/.local/lib/python3.12/site-packages (from httpx>=0.24.1->gradio) (1.0.7)\n",
            "Requirement already satisfied: h11<0.15,>=0.13 in /home/codespace/.local/lib/python3.12/site-packages (from httpcore==1.*->httpx>=0.24.1->gradio) (0.14.0)\n",
            "Requirement already satisfied: filelock in /home/codespace/.local/lib/python3.12/site-packages (from huggingface-hub>=0.28.1->gradio) (3.13.1)\n",
            "Requirement already satisfied: requests in /home/codespace/.local/lib/python3.12/site-packages (from huggingface-hub>=0.28.1->gradio) (2.32.3)\n",
            "Requirement already satisfied: tqdm>=4.42.1 in /home/codespace/.python/current/lib/python3.12/site-packages (from huggingface-hub>=0.28.1->gradio) (4.66.4)\n",
            "Requirement already satisfied: hf-xet<2.0.0,>=1.1.2 in /home/codespace/.python/current/lib/python3.12/site-packages (from huggingface-hub>=0.28.1->gradio) (1.1.2)\n",
            "Requirement already satisfied: python-dateutil>=2.8.2 in /home/codespace/.local/lib/python3.12/site-packages (from pandas<3.0,>=1.0->gradio) (2.9.0.post0)\n",
            "Requirement already satisfied: pytz>=2020.1 in /home/codespace/.local/lib/python3.12/site-packages (from pandas<3.0,>=1.0->gradio) (2025.1)\n",
            "Requirement already satisfied: tzdata>=2022.7 in /home/codespace/.local/lib/python3.12/site-packages (from pandas<3.0,>=1.0->gradio) (2025.1)\n",
            "Requirement already satisfied: annotated-types>=0.6.0 in /home/codespace/.python/current/lib/python3.12/site-packages (from pydantic<2.12,>=2.0->gradio) (0.7.0)\n",
            "Requirement already satisfied: pydantic-core==2.33.2 in /home/codespace/.python/current/lib/python3.12/site-packages (from pydantic<2.12,>=2.0->gradio) (2.33.2)\n",
            "Requirement already satisfied: typing-inspection>=0.4.0 in /home/codespace/.python/current/lib/python3.12/site-packages (from pydantic<2.12,>=2.0->gradio) (0.4.1)\n",
            "Requirement already satisfied: click>=8.0.0 in /home/codespace/.python/current/lib/python3.12/site-packages (from typer<1.0,>=0.12->gradio) (8.2.1)\n",
            "Requirement already satisfied: shellingham>=1.3.0 in /home/codespace/.python/current/lib/python3.12/site-packages (from typer<1.0,>=0.12->gradio) (1.5.4)\n",
            "Requirement already satisfied: rich>=10.11.0 in /home/codespace/.python/current/lib/python3.12/site-packages (from typer<1.0,>=0.12->gradio) (14.0.0)\n",
            "Requirement already satisfied: six>=1.5 in /home/codespace/.local/lib/python3.12/site-packages (from python-dateutil>=2.8.2->pandas<3.0,>=1.0->gradio) (1.17.0)\n",
            "Requirement already satisfied: markdown-it-py>=2.2.0 in /home/codespace/.python/current/lib/python3.12/site-packages (from rich>=10.11.0->typer<1.0,>=0.12->gradio) (3.0.0)\n",
            "Requirement already satisfied: pygments<3.0.0,>=2.13.0 in /home/codespace/.local/lib/python3.12/site-packages (from rich>=10.11.0->typer<1.0,>=0.12->gradio) (2.19.1)\n",
            "Requirement already satisfied: charset-normalizer<4,>=2 in /home/codespace/.local/lib/python3.12/site-packages (from requests->huggingface-hub>=0.28.1->gradio) (3.4.1)\n",
            "Requirement already satisfied: urllib3<3,>=1.21.1 in /home/codespace/.local/lib/python3.12/site-packages (from requests->huggingface-hub>=0.28.1->gradio) (2.3.0)\n",
            "Requirement already satisfied: mdurl~=0.1 in /home/codespace/.python/current/lib/python3.12/site-packages (from markdown-it-py>=2.2.0->rich>=10.11.0->typer<1.0,>=0.12->gradio) (0.1.2)\n",
            "\n",
            "\u001b[1m[\u001b[0m\u001b[34;49mnotice\u001b[0m\u001b[1;39;49m]\u001b[0m\u001b[39;49m A new release of pip is available: \u001b[0m\u001b[31;49m25.0.1\u001b[0m\u001b[39;49m -> \u001b[0m\u001b[32;49m25.1.1\u001b[0m\n",
            "\u001b[1m[\u001b[0m\u001b[34;49mnotice\u001b[0m\u001b[1;39;49m]\u001b[0m\u001b[39;49m To update, run: \u001b[0m\u001b[32;49mpip install --upgrade pip\u001b[0m\n",
            "Note: you may need to restart the kernel to use updated packages.\n"
          ]
        }
      ],
      "source": [
        "%pip install --upgrade gradio"
      ]
    },
    {
      "cell_type": "code",
      "execution_count": null,
      "metadata": {
        "gather": {
          "logged": 1747650280792
        }
      },
      "outputs": [
        {
          "name": "stdout",
          "output_type": "stream",
          "text": [
            "Custom Vision predict가 성공적으로 초기화되었습니다.\n",
            "* Running on local URL:  http://127.0.0.1:7860\n",
            "* Running on public URL: https://30ded23e4ed60430ad.gradio.live\n",
            "\n",
            "This share link expires in 1 week. For free permanent hosting and GPU upgrades, run `gradio deploy` from the terminal in the working directory to deploy to Hugging Face Spaces (https://huggingface.co/spaces)\n"
          ]
        },
        {
          "data": {
            "text/html": [
              "<div><iframe src=\"https://30ded23e4ed60430ad.gradio.live\" width=\"100%\" height=\"500\" allow=\"autoplay; camera; microphone; clipboard-read; clipboard-write;\" frameborder=\"0\" allowfullscreen></iframe></div>"
            ],
            "text/plain": [
              "<IPython.core.display.HTML object>"
            ]
          },
          "metadata": {},
          "output_type": "display_data"
        },
        {
          "data": {
            "text/plain": []
          },
          "execution_count": 4,
          "metadata": {},
          "output_type": "execute_result"
        }
      ],
      "source": [
        "from azure.cognitiveservices.vision.customvision.prediction import CustomVisionPredictionClient\n",
        "from msrest.authentication import ApiKeyCredentials\n",
        "import gradio as gr\n",
        "from PIL import Image, ImageDraw, ImageFont # pillow 라이브러리\n",
        "import io # 이미지를 바이트 스트림으로 처리하기 위해 필요\n",
        "\n",
        "prediction_endpoint = \"\"  # 예측 엔드포인트 URL\n",
        "prediction_key = \"\"  # 예측 키\n",
        "project_id = \"\"  # 프로젝트 ID\n",
        "model_name = \"Iteration1\" # 모델명 (대소문자 구분 필수. 띄어쓰기 없이 기재해야 함)\n",
        "\n",
        "try:\n",
        "    credentials = ApiKeyCredentials(in_headers={\"Prediction-key\": prediction_key})\n",
        "    predictor = CustomVisionPredictionClient(endpoint=prediction_endpoint, credentials=credentials)\n",
        "    print(\"Custom Vision predict가 성공적으로 초기화되었습니다.\")\n",
        "except Exception as e:\n",
        "    print(f\"Custom Vision predictor를 초기화 하는 중 에러가 발생했습니다: {e}\")\n",
        "    predictor = None # 초기화 실패 시 predictor는 None으로 설정\n",
        "\n",
        "# 객체 감지 및 그리기 함수\n",
        "def predict_and_draw(image: Image.Image, detection_threshold: float) -> Image.Image:\n",
        "    \"\"\"\n",
        "    Gradio로부터 PIL 이미지를 받아 Custom Vision 예측 후 결과를 그립니다.\n",
        "\n",
        "    Args:\n",
        "        image: 입력 PIL Image 객체\n",
        "        detection_threshold: 예측 결과 필터링을 위한 신뢰도 임계값 (0.0 ~ 1.0)\n",
        "\n",
        "    Returns:\n",
        "        예측 결과가 그려진 PIL Image 객체.\n",
        "    \"\"\"\n",
        "    if predictor is None:\n",
        "        # predictor 초기화 실패 시 에러 메시지를 이미지로 반환\n",
        "        error_iamge = Image.new('RGB', (600, 400), color = (255, 200, 200))\n",
        "        d = ImageDraw.Draw(error_iamge)\n",
        "        d.text((10,10), \"Error: Custom Vision Predictor가 초기화 되지 않았습니다.\\n endpoint와 key 정보를 확인해주세요.\", fill=(0,0,0))\n",
        "        return error_iamge\n",
        "    \n",
        "    # PIL 이미지를 Custom Vision API 호출을 위한 바이트  스트림으로 변환\n",
        "    # detect_image는 파일 객체나 바이트를 받습니다.\n",
        "    img_byte_arr = io.BytesIO()\n",
        "    # PIl 이미지를 특정 포맷으로 저장 (JPEG, PNG 등)\n",
        "    # Custom Vision은 JPEG, PNG, BMP 등을 지원합니다. 원본 형식을 유지하거나 JPEG/PNG 사용\n",
        "    try:\n",
        "        # 원본 이미지의  형식을 그대로 사용하거나 기본값 사용\n",
        "        image_format = image.format if image.format else 'PNG'\n",
        "        image.save(img_byte_arr, format=image_format)\n",
        "        img_byte_arr.seek(0) # 스트림의 시작으로 이동\n",
        "        image_data = img_byte_arr.read()\n",
        "    except Exception as e:\n",
        "        print(f\"이미지를 types로 변환하는 중 에러가 발생했습니다: {e}\")\n",
        "        error_iamge = Image.new('RGB', (600, 400), color = (255, 200, 200))\n",
        "        d = ImageDraw.Draw(error_iamge)\n",
        "        d.text((10,10), \"Error: 이미지 포맷을 처리하는 중 문제가 발생했습니다: {e}\", fill=(0,0,0))\n",
        "        return error_iamge\n",
        "\n",
        "    try:\n",
        "        # Custom Vision API 호출\n",
        "        # detection_threshold 파라미터를 사용하여 서비스 측에서 필터링\n",
        "        results = predictor.detect_image(\n",
        "            project_id,\n",
        "            model_name,\n",
        "            image_data,\n",
        "            detection_threshold=detection_threshold # 여기서 임계값을 적용\n",
        "        )\n",
        "    except Exception as e:\n",
        "        print(f\"Custom Vision prediction을 호출하는 중 에러가 발생했습니다: {e}\")\n",
        "\n",
        "    # 결과 이미지에 바운딩 박스와 라벨 그리기\n",
        "    # 원본 이미지에 직접 그리기 위해 복사본 사용 권장\n",
        "    # Gradio 추력은 새로운 이미지를 반환하면 되므로 복사본이 안전합니다.\n",
        "    output_image = image.copy()\n",
        "    draw = ImageDraw.Draw(output_image)\n",
        "    width, height = output_image.size\n",
        "\n",
        "    # 선 두께 계산 (이미지 크기에 따라 조절)\n",
        "    line_width = max(2, int(width / 200)) # 최소 2픽셀, 이미지 폭의 1/200 정도\n",
        "\n",
        "    # 라벨 텍스트를 위한 기본 폰트 로드 (PIL에서 기본 제공)\n",
        "    try:\n",
        "        font = ImageFont.load_default()\n",
        "    except Exception as e:\n",
        "        print(f\"경고: 폰트를 불러올 수 없습니다. 기본 PIL 폰트를 사용하겠습니다: {e}\")\n",
        "        font = ImageFont.load_default()\n",
        "\n",
        "    # Custom Vision API에서 반환된 예측 결과 순회\n",
        "    for prediction in results.predictions:\n",
        "        # detection_threshold를 사용하여 probability 체크\n",
        "        if prediction.probability > detection_threshold:\n",
        "            # 좌표 스케일링 (API 결과는 0~1 사이의 값)\n",
        "            left = prediction.bounding_box.left * width\n",
        "            top = prediction.bounding_box.top * height\n",
        "            box_width = prediction.bounding_box.width * width\n",
        "            box_height = prediction.bounding_box.height * height\n",
        "\n",
        "            # 바운딩 박스 좌표 계산\n",
        "            box_coords = (left, top, left + box_width, top + box_height)\n",
        "            # 색상 설정: 마젠타\n",
        "            color = 'magenta'\n",
        "\n",
        "            # 바운딩 박스 그리기\n",
        "            draw.rectangle(box_coords, outline=color, width=line_width)\n",
        "\n",
        "            # 라벨 텍스트 생성 (태그 이름 및 신뢰도)\n",
        "            label_text = f\"{prediction.tag_name}: {prediction.probability*100:.1f}\"\n",
        "\n",
        "            # 라벨 텍스트 위치 계산 (바운딩 박스 상단 약간 위)\n",
        "            # 텍스트 크기를 대략적으로 계산하여 위치 조정\n",
        "            try:\n",
        "                text_bbox = draw.textbbox((left, top), label_text, font=font)\n",
        "                text_width = text_bbox[2] - text_bbox[0]\n",
        "                text_height = text_bbox[3] - text_bbox[1]\n",
        "            except AttributeError:\n",
        "                print(f\"AttributeError가 발생했습니다.\")\n",
        "                text_width, text_height = draw.textsize(label_text, font=font)\n",
        "\n",
        "            text_x = left\n",
        "            text_y = top - text_height -5 # 상단에서 텍스트 높이 + 약간의 여백만큼 위로\n",
        "            \n",
        "            # 라벨 텍스트 그리기\n",
        "            draw.text((text_x, text_y), label_text, fill=color, font=font) # 텍스트 색상\n",
        "\n",
        "    # Matplotlib 대신 PIL Image 객체를 직접 반환\n",
        "    return output_image\n",
        "\n",
        "iface = gr.Interface(\n",
        "    fn=predict_and_draw,\n",
        "    inputs=[\n",
        "        gr.Image(type=\"pil\", label=\"이미지를 업로드하세요\"), # 이미지 입력 (PIL Image 객체로 받음)\n",
        "        gr.Slider(minimum=0, maximum=1, value=0.5, label=\"예측 신뢰도 임계값 (Detection Threshold)\") # 슬라이더 입력\n",
        "    ],\n",
        "    outputs=gr.Image(type=\"pil\", label=\"감지된 객체\"), # 이미지 출력 (PIl Image 객체 반환)\n",
        "    title=\"Azure Custom Vision 과일 객체 탐지 데모\",\n",
        "    description=\"이미지를 업로드하고 임계값을 조절하여 Azure Custom Vision 모델의 객체 감지 결과를 확인하세요\"\n",
        ")\n",
        "\n",
        "iface.launch(share=True)"
      ]
    }
  ],
  "metadata": {
    "kernel_info": {
      "name": "python310-sdkv2"
    },
    "kernelspec": {
      "display_name": "Python 3",
      "language": "python",
      "name": "python3"
    },
    "language_info": {
      "codemirror_mode": {
        "name": "ipython",
        "version": 3
      },
      "file_extension": ".py",
      "mimetype": "text/x-python",
      "name": "python",
      "nbconvert_exporter": "python",
      "pygments_lexer": "ipython3",
      "version": "3.12.1"
    },
    "microsoft": {
      "host": {
        "AzureML": {
          "notebookHasBeenCompleted": true
        }
      }
    },
    "nteract": {
      "version": "nteract-front-end@1.0.0"
    }
  },
  "nbformat": 4,
  "nbformat_minor": 2
}
